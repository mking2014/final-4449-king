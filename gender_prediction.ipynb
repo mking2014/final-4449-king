{
  "cells": [
    {
      "cell_type": "markdown",
      "metadata": {
        "id": "view-in-github",
        "colab_type": "text"
      },
      "source": [
        "<a href=\"https://colab.research.google.com/github/mking2014/final-4449-king/blob/main/gender_prediction.ipynb\" target=\"_parent\"><img src=\"https://colab.research.google.com/assets/colab-badge.svg\" alt=\"Open In Colab\"/></a>"
      ]
    },
    {
      "cell_type": "code",
      "execution_count": null,
      "metadata": {
        "id": "2VgEnZvQbRQc"
      },
      "outputs": [],
      "source": [
        "import pandas as pd\n",
        "import numpy as np\n",
        "import matplotlib.pyplot as plt\n",
        "import seaborn as sns\n",
        "import os\n",
        "import datetime\n",
        "\n",
        "import warnings\n",
        "warnings.filterwarnings('ignore')"
      ]
    },
    {
      "cell_type": "code",
      "source": [
        "from google.colab import drive\n",
        "drive.mount('/content/drive')"
      ],
      "metadata": {
        "colab": {
          "base_uri": "https://localhost:8080/"
        },
        "id": "LMmHC6pgRRcF",
        "outputId": "9a092b5a-e1a1-4805-d691-ea946e6cc704"
      },
      "execution_count": null,
      "outputs": [
        {
          "output_type": "stream",
          "name": "stdout",
          "text": [
            "Drive already mounted at /content/drive; to attempt to forcibly remount, call drive.mount(\"/content/drive\", force_remount=True).\n"
          ]
        }
      ]
    },
    {
      "cell_type": "code",
      "source": [
        "# def evaluate_classification_model(g_labels, g_preds):\n",
        "\n",
        "#   cm = confusion_matrix(g_labels, g_preds)\n",
        "#   sns.heatmap(cm, annot = True, fmt ='.0f')\n",
        "#   plt.ylabel('True Label')\n",
        "#   plt.xlabel('Predictied Label')\n",
        "#   plt.title('Gender Classficiation')\n",
        "#   print(f\"Accuracy: {accuracy_score(g_labels, g_preds)}\")\n",
        "#   print(f\"Precision: {precision_score(g_labels, g_preds)}\")\n",
        "#   print(f\"Recall: {recall_score(g_labels, g_preds)}\")\n",
        "#   print(f\"F1 Score: {f1_score(g_labels, g_preds)}\")\n",
        "\n",
        "#   return\n"
      ],
      "metadata": {
        "id": "euvfsR0vIjZr"
      },
      "execution_count": null,
      "outputs": []
    },
    {
      "cell_type": "markdown",
      "metadata": {
        "id": "dIN3hKEzbRQe"
      },
      "source": [
        "# Load Data"
      ]
    },
    {
      "cell_type": "markdown",
      "source": [
        "0 = Male <br>\n",
        "1 = Female"
      ],
      "metadata": {
        "id": "k9g8Uvb3audw"
      }
    },
    {
      "cell_type": "code",
      "execution_count": null,
      "metadata": {
        "id": "WjqMjbvYbRQf",
        "outputId": "49fb4088-bb80-42a5-bbcb-76ecebf5abe5",
        "colab": {
          "base_uri": "https://localhost:8080/",
          "height": 224
        }
      },
      "outputs": [
        {
          "output_type": "stream",
          "name": "stdout",
          "text": [
            "Dataset size: (23705, 4)\n"
          ]
        },
        {
          "output_type": "execute_result",
          "data": {
            "text/plain": [
              "   age  ethnicity  gender                                             pixels\n",
              "0    1          2       0  129 128 128 126 127 130 133 135 139 142 145 14...\n",
              "1    1          2       0  164 74 111 168 169 171 175 182 184 188 193 199...\n",
              "2    1          2       0  67 70 71 70 69 67 70 79 90 103 116 132 145 155...\n",
              "3    1          2       0  193 197 198 200 199 200 202 203 204 205 208 21...\n",
              "4    1          2       0  202 205 209 210 209 209 210 211 212 214 218 21..."
            ],
            "text/html": [
              "\n",
              "  <div id=\"df-4d88812a-2f41-4b63-8072-42ea5e798aac\" class=\"colab-df-container\">\n",
              "    <div>\n",
              "<style scoped>\n",
              "    .dataframe tbody tr th:only-of-type {\n",
              "        vertical-align: middle;\n",
              "    }\n",
              "\n",
              "    .dataframe tbody tr th {\n",
              "        vertical-align: top;\n",
              "    }\n",
              "\n",
              "    .dataframe thead th {\n",
              "        text-align: right;\n",
              "    }\n",
              "</style>\n",
              "<table border=\"1\" class=\"dataframe\">\n",
              "  <thead>\n",
              "    <tr style=\"text-align: right;\">\n",
              "      <th></th>\n",
              "      <th>age</th>\n",
              "      <th>ethnicity</th>\n",
              "      <th>gender</th>\n",
              "      <th>pixels</th>\n",
              "    </tr>\n",
              "  </thead>\n",
              "  <tbody>\n",
              "    <tr>\n",
              "      <th>0</th>\n",
              "      <td>1</td>\n",
              "      <td>2</td>\n",
              "      <td>0</td>\n",
              "      <td>129 128 128 126 127 130 133 135 139 142 145 14...</td>\n",
              "    </tr>\n",
              "    <tr>\n",
              "      <th>1</th>\n",
              "      <td>1</td>\n",
              "      <td>2</td>\n",
              "      <td>0</td>\n",
              "      <td>164 74 111 168 169 171 175 182 184 188 193 199...</td>\n",
              "    </tr>\n",
              "    <tr>\n",
              "      <th>2</th>\n",
              "      <td>1</td>\n",
              "      <td>2</td>\n",
              "      <td>0</td>\n",
              "      <td>67 70 71 70 69 67 70 79 90 103 116 132 145 155...</td>\n",
              "    </tr>\n",
              "    <tr>\n",
              "      <th>3</th>\n",
              "      <td>1</td>\n",
              "      <td>2</td>\n",
              "      <td>0</td>\n",
              "      <td>193 197 198 200 199 200 202 203 204 205 208 21...</td>\n",
              "    </tr>\n",
              "    <tr>\n",
              "      <th>4</th>\n",
              "      <td>1</td>\n",
              "      <td>2</td>\n",
              "      <td>0</td>\n",
              "      <td>202 205 209 210 209 209 210 211 212 214 218 21...</td>\n",
              "    </tr>\n",
              "  </tbody>\n",
              "</table>\n",
              "</div>\n",
              "    <div class=\"colab-df-buttons\">\n",
              "\n",
              "  <div class=\"colab-df-container\">\n",
              "    <button class=\"colab-df-convert\" onclick=\"convertToInteractive('df-4d88812a-2f41-4b63-8072-42ea5e798aac')\"\n",
              "            title=\"Convert this dataframe to an interactive table.\"\n",
              "            style=\"display:none;\">\n",
              "\n",
              "  <svg xmlns=\"http://www.w3.org/2000/svg\" height=\"24px\" viewBox=\"0 -960 960 960\">\n",
              "    <path d=\"M120-120v-720h720v720H120Zm60-500h600v-160H180v160Zm220 220h160v-160H400v160Zm0 220h160v-160H400v160ZM180-400h160v-160H180v160Zm440 0h160v-160H620v160ZM180-180h160v-160H180v160Zm440 0h160v-160H620v160Z\"/>\n",
              "  </svg>\n",
              "    </button>\n",
              "\n",
              "  <style>\n",
              "    .colab-df-container {\n",
              "      display:flex;\n",
              "      gap: 12px;\n",
              "    }\n",
              "\n",
              "    .colab-df-convert {\n",
              "      background-color: #E8F0FE;\n",
              "      border: none;\n",
              "      border-radius: 50%;\n",
              "      cursor: pointer;\n",
              "      display: none;\n",
              "      fill: #1967D2;\n",
              "      height: 32px;\n",
              "      padding: 0 0 0 0;\n",
              "      width: 32px;\n",
              "    }\n",
              "\n",
              "    .colab-df-convert:hover {\n",
              "      background-color: #E2EBFA;\n",
              "      box-shadow: 0px 1px 2px rgba(60, 64, 67, 0.3), 0px 1px 3px 1px rgba(60, 64, 67, 0.15);\n",
              "      fill: #174EA6;\n",
              "    }\n",
              "\n",
              "    .colab-df-buttons div {\n",
              "      margin-bottom: 4px;\n",
              "    }\n",
              "\n",
              "    [theme=dark] .colab-df-convert {\n",
              "      background-color: #3B4455;\n",
              "      fill: #D2E3FC;\n",
              "    }\n",
              "\n",
              "    [theme=dark] .colab-df-convert:hover {\n",
              "      background-color: #434B5C;\n",
              "      box-shadow: 0px 1px 3px 1px rgba(0, 0, 0, 0.15);\n",
              "      filter: drop-shadow(0px 1px 2px rgba(0, 0, 0, 0.3));\n",
              "      fill: #FFFFFF;\n",
              "    }\n",
              "  </style>\n",
              "\n",
              "    <script>\n",
              "      const buttonEl =\n",
              "        document.querySelector('#df-4d88812a-2f41-4b63-8072-42ea5e798aac button.colab-df-convert');\n",
              "      buttonEl.style.display =\n",
              "        google.colab.kernel.accessAllowed ? 'block' : 'none';\n",
              "\n",
              "      async function convertToInteractive(key) {\n",
              "        const element = document.querySelector('#df-4d88812a-2f41-4b63-8072-42ea5e798aac');\n",
              "        const dataTable =\n",
              "          await google.colab.kernel.invokeFunction('convertToInteractive',\n",
              "                                                    [key], {});\n",
              "        if (!dataTable) return;\n",
              "\n",
              "        const docLinkHtml = 'Like what you see? Visit the ' +\n",
              "          '<a target=\"_blank\" href=https://colab.research.google.com/notebooks/data_table.ipynb>data table notebook</a>'\n",
              "          + ' to learn more about interactive tables.';\n",
              "        element.innerHTML = '';\n",
              "        dataTable['output_type'] = 'display_data';\n",
              "        await google.colab.output.renderOutput(dataTable, element);\n",
              "        const docLink = document.createElement('div');\n",
              "        docLink.innerHTML = docLinkHtml;\n",
              "        element.appendChild(docLink);\n",
              "      }\n",
              "    </script>\n",
              "  </div>\n",
              "\n",
              "\n",
              "<div id=\"df-e2b91b2a-41ac-42a3-bc5b-021b234ad762\">\n",
              "  <button class=\"colab-df-quickchart\" onclick=\"quickchart('df-e2b91b2a-41ac-42a3-bc5b-021b234ad762')\"\n",
              "            title=\"Suggest charts.\"\n",
              "            style=\"display:none;\">\n",
              "\n",
              "<svg xmlns=\"http://www.w3.org/2000/svg\" height=\"24px\"viewBox=\"0 0 24 24\"\n",
              "     width=\"24px\">\n",
              "    <g>\n",
              "        <path d=\"M19 3H5c-1.1 0-2 .9-2 2v14c0 1.1.9 2 2 2h14c1.1 0 2-.9 2-2V5c0-1.1-.9-2-2-2zM9 17H7v-7h2v7zm4 0h-2V7h2v10zm4 0h-2v-4h2v4z\"/>\n",
              "    </g>\n",
              "</svg>\n",
              "  </button>\n",
              "\n",
              "<style>\n",
              "  .colab-df-quickchart {\n",
              "      --bg-color: #E8F0FE;\n",
              "      --fill-color: #1967D2;\n",
              "      --hover-bg-color: #E2EBFA;\n",
              "      --hover-fill-color: #174EA6;\n",
              "      --disabled-fill-color: #AAA;\n",
              "      --disabled-bg-color: #DDD;\n",
              "  }\n",
              "\n",
              "  [theme=dark] .colab-df-quickchart {\n",
              "      --bg-color: #3B4455;\n",
              "      --fill-color: #D2E3FC;\n",
              "      --hover-bg-color: #434B5C;\n",
              "      --hover-fill-color: #FFFFFF;\n",
              "      --disabled-bg-color: #3B4455;\n",
              "      --disabled-fill-color: #666;\n",
              "  }\n",
              "\n",
              "  .colab-df-quickchart {\n",
              "    background-color: var(--bg-color);\n",
              "    border: none;\n",
              "    border-radius: 50%;\n",
              "    cursor: pointer;\n",
              "    display: none;\n",
              "    fill: var(--fill-color);\n",
              "    height: 32px;\n",
              "    padding: 0;\n",
              "    width: 32px;\n",
              "  }\n",
              "\n",
              "  .colab-df-quickchart:hover {\n",
              "    background-color: var(--hover-bg-color);\n",
              "    box-shadow: 0 1px 2px rgba(60, 64, 67, 0.3), 0 1px 3px 1px rgba(60, 64, 67, 0.15);\n",
              "    fill: var(--button-hover-fill-color);\n",
              "  }\n",
              "\n",
              "  .colab-df-quickchart-complete:disabled,\n",
              "  .colab-df-quickchart-complete:disabled:hover {\n",
              "    background-color: var(--disabled-bg-color);\n",
              "    fill: var(--disabled-fill-color);\n",
              "    box-shadow: none;\n",
              "  }\n",
              "\n",
              "  .colab-df-spinner {\n",
              "    border: 2px solid var(--fill-color);\n",
              "    border-color: transparent;\n",
              "    border-bottom-color: var(--fill-color);\n",
              "    animation:\n",
              "      spin 1s steps(1) infinite;\n",
              "  }\n",
              "\n",
              "  @keyframes spin {\n",
              "    0% {\n",
              "      border-color: transparent;\n",
              "      border-bottom-color: var(--fill-color);\n",
              "      border-left-color: var(--fill-color);\n",
              "    }\n",
              "    20% {\n",
              "      border-color: transparent;\n",
              "      border-left-color: var(--fill-color);\n",
              "      border-top-color: var(--fill-color);\n",
              "    }\n",
              "    30% {\n",
              "      border-color: transparent;\n",
              "      border-left-color: var(--fill-color);\n",
              "      border-top-color: var(--fill-color);\n",
              "      border-right-color: var(--fill-color);\n",
              "    }\n",
              "    40% {\n",
              "      border-color: transparent;\n",
              "      border-right-color: var(--fill-color);\n",
              "      border-top-color: var(--fill-color);\n",
              "    }\n",
              "    60% {\n",
              "      border-color: transparent;\n",
              "      border-right-color: var(--fill-color);\n",
              "    }\n",
              "    80% {\n",
              "      border-color: transparent;\n",
              "      border-right-color: var(--fill-color);\n",
              "      border-bottom-color: var(--fill-color);\n",
              "    }\n",
              "    90% {\n",
              "      border-color: transparent;\n",
              "      border-bottom-color: var(--fill-color);\n",
              "    }\n",
              "  }\n",
              "</style>\n",
              "\n",
              "  <script>\n",
              "    async function quickchart(key) {\n",
              "      const quickchartButtonEl =\n",
              "        document.querySelector('#' + key + ' button');\n",
              "      quickchartButtonEl.disabled = true;  // To prevent multiple clicks.\n",
              "      quickchartButtonEl.classList.add('colab-df-spinner');\n",
              "      try {\n",
              "        const charts = await google.colab.kernel.invokeFunction(\n",
              "            'suggestCharts', [key], {});\n",
              "      } catch (error) {\n",
              "        console.error('Error during call to suggestCharts:', error);\n",
              "      }\n",
              "      quickchartButtonEl.classList.remove('colab-df-spinner');\n",
              "      quickchartButtonEl.classList.add('colab-df-quickchart-complete');\n",
              "    }\n",
              "    (() => {\n",
              "      let quickchartButtonEl =\n",
              "        document.querySelector('#df-e2b91b2a-41ac-42a3-bc5b-021b234ad762 button');\n",
              "      quickchartButtonEl.style.display =\n",
              "        google.colab.kernel.accessAllowed ? 'block' : 'none';\n",
              "    })();\n",
              "  </script>\n",
              "</div>\n",
              "\n",
              "    </div>\n",
              "  </div>\n"
            ]
          },
          "metadata": {},
          "execution_count": 4
        }
      ],
      "source": [
        "df = pd.read_csv('/content/drive/MyDrive/comp4449_final/content 2/data/age_gender.csv')\n",
        "df = df.drop(columns = ['img_name'])\n",
        "print(f\"Dataset size: {df.shape}\")\n",
        "df.head()"
      ]
    },
    {
      "cell_type": "code",
      "execution_count": null,
      "metadata": {
        "id": "X0bFMw87bRQg"
      },
      "outputs": [],
      "source": [
        "# Converting pixels into numpy array\n",
        "df['pixels']=df['pixels'].apply(lambda x:  np.array(x.split(), dtype=\"float32\"))"
      ]
    },
    {
      "cell_type": "markdown",
      "metadata": {
        "id": "L2wAmqVPbRQi"
      },
      "source": [
        "# Data Preparation\n",
        "\n",
        "This model will predict the age & gender usge the images. A classification model will be used to predict the gender (binary result) while a regression model will be used to predict the age."
      ]
    },
    {
      "cell_type": "code",
      "source": [
        "sns.countplot(x=\"gender\", palette='spring', data=df.replace({\"gender\" : {0 : \"Male\", 1 : \"Female\"}}))\n",
        "plt.title('Gender Distribution')\n",
        "plt.xlabel('Gender')\n",
        "plt.ylabel('Count')"
      ],
      "metadata": {
        "colab": {
          "base_uri": "https://localhost:8080/",
          "height": 489
        },
        "id": "PZePPRZtft3P",
        "outputId": "960c669b-d902-4197-ff63-e94c541974f1"
      },
      "execution_count": null,
      "outputs": [
        {
          "output_type": "execute_result",
          "data": {
            "text/plain": [
              "Text(0, 0.5, 'Count')"
            ]
          },
          "metadata": {},
          "execution_count": 6
        },
        {
          "output_type": "display_data",
          "data": {
            "text/plain": [
              "<Figure size 640x480 with 1 Axes>"
            ],
            "image/png": "[encoded data removed]"
          },
          "metadata": {}
        }
      ]
    },
    {
      "cell_type": "code",
      "execution_count": null,
      "metadata": {
        "id": "57tfBwDnbRQi"
      },
      "outputs": [],
      "source": [
        "from sklearn.model_selection import train_test_split\n",
        "from sklearn.preprocessing import LabelEncoder"
      ]
    },
    {
      "cell_type": "code",
      "execution_count": null,
      "metadata": {
        "id": "PAIApVmQbRQi",
        "outputId": "0dffca2f-b55e-4d48-defb-7e1c33609c52",
        "colab": {
          "base_uri": "https://localhost:8080/",
          "height": 206
        }
      },
      "outputs": [
        {
          "output_type": "execute_result",
          "data": {
            "text/plain": [
              "   age  ethnicity  gender                                             pixels\n",
              "0    1          2       0  [129.0, 128.0, 128.0, 126.0, 127.0, 130.0, 133...\n",
              "1    1          2       0  [164.0, 74.0, 111.0, 168.0, 169.0, 171.0, 175....\n",
              "2    1          2       0  [67.0, 70.0, 71.0, 70.0, 69.0, 67.0, 70.0, 79....\n",
              "3    1          2       0  [193.0, 197.0, 198.0, 200.0, 199.0, 200.0, 202...\n",
              "4    1          2       0  [202.0, 205.0, 209.0, 210.0, 209.0, 209.0, 210..."
            ],
            "text/html": [
              "\n",
              "  <div id=\"df-46b4e580-4a19-4990-a294-687eb4696123\" class=\"colab-df-container\">\n",
              "    <div>\n",
              "<style scoped>\n",
              "    .dataframe tbody tr th:only-of-type {\n",
              "        vertical-align: middle;\n",
              "    }\n",
              "\n",
              "    .dataframe tbody tr th {\n",
              "        vertical-align: top;\n",
              "    }\n",
              "\n",
              "    .dataframe thead th {\n",
              "        text-align: right;\n",
              "    }\n",
              "</style>\n",
              "<table border=\"1\" class=\"dataframe\">\n",
              "  <thead>\n",
              "    <tr style=\"text-align: right;\">\n",
              "      <th></th>\n",
              "      <th>age</th>\n",
              "      <th>ethnicity</th>\n",
              "      <th>gender</th>\n",
              "      <th>pixels</th>\n",
              "    </tr>\n",
              "  </thead>\n",
              "  <tbody>\n",
              "    <tr>\n",
              "      <th>0</th>\n",
              "      <td>1</td>\n",
              "      <td>2</td>\n",
              "      <td>0</td>\n",
              "      <td>[129.0, 128.0, 128.0, 126.0, 127.0, 130.0, 133...</td>\n",
              "    </tr>\n",
              "    <tr>\n",
              "      <th>1</th>\n",
              "      <td>1</td>\n",
              "      <td>2</td>\n",
              "      <td>0</td>\n",
              "      <td>[164.0, 74.0, 111.0, 168.0, 169.0, 171.0, 175....</td>\n",
              "    </tr>\n",
              "    <tr>\n",
              "      <th>2</th>\n",
              "      <td>1</td>\n",
              "      <td>2</td>\n",
              "      <td>0</td>\n",
              "      <td>[67.0, 70.0, 71.0, 70.0, 69.0, 67.0, 70.0, 79....</td>\n",
              "    </tr>\n",
              "    <tr>\n",
              "      <th>3</th>\n",
              "      <td>1</td>\n",
              "      <td>2</td>\n",
              "      <td>0</td>\n",
              "      <td>[193.0, 197.0, 198.0, 200.0, 199.0, 200.0, 202...</td>\n",
              "    </tr>\n",
              "    <tr>\n",
              "      <th>4</th>\n",
              "      <td>1</td>\n",
              "      <td>2</td>\n",
              "      <td>0</td>\n",
              "      <td>[202.0, 205.0, 209.0, 210.0, 209.0, 209.0, 210...</td>\n",
              "    </tr>\n",
              "  </tbody>\n",
              "</table>\n",
              "</div>\n",
              "    <div class=\"colab-df-buttons\">\n",
              "\n",
              "  <div class=\"colab-df-container\">\n",
              "    <button class=\"colab-df-convert\" onclick=\"convertToInteractive('df-46b4e580-4a19-4990-a294-687eb4696123')\"\n",
              "            title=\"Convert this dataframe to an interactive table.\"\n",
              "            style=\"display:none;\">\n",
              "\n",
              "  <svg xmlns=\"http://www.w3.org/2000/svg\" height=\"24px\" viewBox=\"0 -960 960 960\">\n",
              "    <path d=\"M120-120v-720h720v720H120Zm60-500h600v-160H180v160Zm220 220h160v-160H400v160Zm0 220h160v-160H400v160ZM180-400h160v-160H180v160Zm440 0h160v-160H620v160ZM180-180h160v-160H180v160Zm440 0h160v-160H620v160Z\"/>\n",
              "  </svg>\n",
              "    </button>\n",
              "\n",
              "  <style>\n",
              "    .colab-df-container {\n",
              "      display:flex;\n",
              "      gap: 12px;\n",
              "    }\n",
              "\n",
              "    .colab-df-convert {\n",
              "      background-color: #E8F0FE;\n",
              "      border: none;\n",
              "      border-radius: 50%;\n",
              "      cursor: pointer;\n",
              "      display: none;\n",
              "      fill: #1967D2;\n",
              "      height: 32px;\n",
              "      padding: 0 0 0 0;\n",
              "      width: 32px;\n",
              "    }\n",
              "\n",
              "    .colab-df-convert:hover {\n",
              "      background-color: #E2EBFA;\n",
              "      box-shadow: 0px 1px 2px rgba(60, 64, 67, 0.3), 0px 1px 3px 1px rgba(60, 64, 67, 0.15);\n",
              "      fill: #174EA6;\n",
              "    }\n",
              "\n",
              "    .colab-df-buttons div {\n",
              "      margin-bottom: 4px;\n",
              "    }\n",
              "\n",
              "    [theme=dark] .colab-df-convert {\n",
              "      background-color: #3B4455;\n",
              "      fill: #D2E3FC;\n",
              "    }\n",
              "\n",
              "    [theme=dark] .colab-df-convert:hover {\n",
              "      background-color: #434B5C;\n",
              "      box-shadow: 0px 1px 3px 1px rgba(0, 0, 0, 0.15);\n",
              "      filter: drop-shadow(0px 1px 2px rgba(0, 0, 0, 0.3));\n",
              "      fill: #FFFFFF;\n",
              "    }\n",
              "  </style>\n",
              "\n",
              "    <script>\n",
              "      const buttonEl =\n",
              "        document.querySelector('#df-46b4e580-4a19-4990-a294-687eb4696123 button.colab-df-convert');\n",
              "      buttonEl.style.display =\n",
              "        google.colab.kernel.accessAllowed ? 'block' : 'none';\n",
              "\n",
              "      async function convertToInteractive(key) {\n",
              "        const element = document.querySelector('#df-46b4e580-4a19-4990-a294-687eb4696123');\n",
              "        const dataTable =\n",
              "          await google.colab.kernel.invokeFunction('convertToInteractive',\n",
              "                                                    [key], {});\n",
              "        if (!dataTable) return;\n",
              "\n",
              "        const docLinkHtml = 'Like what you see? Visit the ' +\n",
              "          '<a target=\"_blank\" href=https://colab.research.google.com/notebooks/data_table.ipynb>data table notebook</a>'\n",
              "          + ' to learn more about interactive tables.';\n",
              "        element.innerHTML = '';\n",
              "        dataTable['output_type'] = 'display_data';\n",
              "        await google.colab.output.renderOutput(dataTable, element);\n",
              "        const docLink = document.createElement('div');\n",
              "        docLink.innerHTML = docLinkHtml;\n",
              "        element.appendChild(docLink);\n",
              "      }\n",
              "    </script>\n",
              "  </div>\n",
              "\n",
              "\n",
              "<div id=\"df-9b55d0f2-f69d-476b-9ad6-4f3545783435\">\n",
              "  <button class=\"colab-df-quickchart\" onclick=\"quickchart('df-9b55d0f2-f69d-476b-9ad6-4f3545783435')\"\n",
              "            title=\"Suggest charts.\"\n",
              "            style=\"display:none;\">\n",
              "\n",
              "<svg xmlns=\"http://www.w3.org/2000/svg\" height=\"24px\"viewBox=\"0 0 24 24\"\n",
              "     width=\"24px\">\n",
              "    <g>\n",
              "        <path d=\"M19 3H5c-1.1 0-2 .9-2 2v14c0 1.1.9 2 2 2h14c1.1 0 2-.9 2-2V5c0-1.1-.9-2-2-2zM9 17H7v-7h2v7zm4 0h-2V7h2v10zm4 0h-2v-4h2v4z\"/>\n",
              "    </g>\n",
              "</svg>\n",
              "  </button>\n",
              "\n",
              "<style>\n",
              "  .colab-df-quickchart {\n",
              "      --bg-color: #E8F0FE;\n",
              "      --fill-color: #1967D2;\n",
              "      --hover-bg-color: #E2EBFA;\n",
              "      --hover-fill-color: #174EA6;\n",
              "      --disabled-fill-color: #AAA;\n",
              "      --disabled-bg-color: #DDD;\n",
              "  }\n",
              "\n",
              "  [theme=dark] .colab-df-quickchart {\n",
              "      --bg-color: #3B4455;\n",
              "      --fill-color: #D2E3FC;\n",
              "      --hover-bg-color: #434B5C;\n",
              "      --hover-fill-color: #FFFFFF;\n",
              "      --disabled-bg-color: #3B4455;\n",
              "      --disabled-fill-color: #666;\n",
              "  }\n",
              "\n",
              "  .colab-df-quickchart {\n",
              "    background-color: var(--bg-color);\n",
              "    border: none;\n",
              "    border-radius: 50%;\n",
              "    cursor: pointer;\n",
              "    display: none;\n",
              "    fill: var(--fill-color);\n",
              "    height: 32px;\n",
              "    padding: 0;\n",
              "    width: 32px;\n",
              "  }\n",
              "\n",
              "  .colab-df-quickchart:hover {\n",
              "    background-color: var(--hover-bg-color);\n",
              "    box-shadow: 0 1px 2px rgba(60, 64, 67, 0.3), 0 1px 3px 1px rgba(60, 64, 67, 0.15);\n",
              "    fill: var(--button-hover-fill-color);\n",
              "  }\n",
              "\n",
              "  .colab-df-quickchart-complete:disabled,\n",
              "  .colab-df-quickchart-complete:disabled:hover {\n",
              "    background-color: var(--disabled-bg-color);\n",
              "    fill: var(--disabled-fill-color);\n",
              "    box-shadow: none;\n",
              "  }\n",
              "\n",
              "  .colab-df-spinner {\n",
              "    border: 2px solid var(--fill-color);\n",
              "    border-color: transparent;\n",
              "    border-bottom-color: var(--fill-color);\n",
              "    animation:\n",
              "      spin 1s steps(1) infinite;\n",
              "  }\n",
              "\n",
              "  @keyframes spin {\n",
              "    0% {\n",
              "      border-color: transparent;\n",
              "      border-bottom-color: var(--fill-color);\n",
              "      border-left-color: var(--fill-color);\n",
              "    }\n",
              "    20% {\n",
              "      border-color: transparent;\n",
              "      border-left-color: var(--fill-color);\n",
              "      border-top-color: var(--fill-color);\n",
              "    }\n",
              "    30% {\n",
              "      border-color: transparent;\n",
              "      border-left-color: var(--fill-color);\n",
              "      border-top-color: var(--fill-color);\n",
              "      border-right-color: var(--fill-color);\n",
              "    }\n",
              "    40% {\n",
              "      border-color: transparent;\n",
              "      border-right-color: var(--fill-color);\n",
              "      border-top-color: var(--fill-color);\n",
              "    }\n",
              "    60% {\n",
              "      border-color: transparent;\n",
              "      border-right-color: var(--fill-color);\n",
              "    }\n",
              "    80% {\n",
              "      border-color: transparent;\n",
              "      border-right-color: var(--fill-color);\n",
              "      border-bottom-color: var(--fill-color);\n",
              "    }\n",
              "    90% {\n",
              "      border-color: transparent;\n",
              "      border-bottom-color: var(--fill-color);\n",
              "    }\n",
              "  }\n",
              "</style>\n",
              "\n",
              "  <script>\n",
              "    async function quickchart(key) {\n",
              "      const quickchartButtonEl =\n",
              "        document.querySelector('#' + key + ' button');\n",
              "      quickchartButtonEl.disabled = true;  // To prevent multiple clicks.\n",
              "      quickchartButtonEl.classList.add('colab-df-spinner');\n",
              "      try {\n",
              "        const charts = await google.colab.kernel.invokeFunction(\n",
              "            'suggestCharts', [key], {});\n",
              "      } catch (error) {\n",
              "        console.error('Error during call to suggestCharts:', error);\n",
              "      }\n",
              "      quickchartButtonEl.classList.remove('colab-df-spinner');\n",
              "      quickchartButtonEl.classList.add('colab-df-quickchart-complete');\n",
              "    }\n",
              "    (() => {\n",
              "      let quickchartButtonEl =\n",
              "        document.querySelector('#df-9b55d0f2-f69d-476b-9ad6-4f3545783435 button');\n",
              "      quickchartButtonEl.style.display =\n",
              "        google.colab.kernel.accessAllowed ? 'block' : 'none';\n",
              "    })();\n",
              "  </script>\n",
              "</div>\n",
              "\n",
              "    </div>\n",
              "  </div>\n"
            ]
          },
          "metadata": {},
          "execution_count": 8
        }
      ],
      "source": [
        "df.head()"
      ]
    },
    {
      "cell_type": "code",
      "source": [
        "bins = [0, 12, 20, 35, 50, 75, 116]\n",
        "labels = ['Child', 'Teenager', 'Young Adult', 'Adult', 'Senior', 'Elderly']\n",
        "df['age_bin'] = pd.cut(x = df['age'], bins = bins, labels = labels, include_lowest = True)\n",
        "df['age_bin'].value_counts()\n",
        "\n",
        "sns.countplot(data = df, x = 'age_bin', palette = 'spring')"
      ],
      "metadata": {
        "colab": {
          "base_uri": "https://localhost:8080/",
          "height": 467
        },
        "id": "jWFc5h-0WhmP",
        "outputId": "f211ccee-b2df-4e7a-91d1-319fd46c55c1"
      },
      "execution_count": null,
      "outputs": [
        {
          "output_type": "execute_result",
          "data": {
            "text/plain": [
              "<Axes: xlabel='age_bin', ylabel='count'>"
            ]
          },
          "metadata": {},
          "execution_count": 9
        },
        {
          "output_type": "display_data",
          "data": {
            "text/plain": [
              "<Figure size 640x480 with 1 Axes>"
            ],
            "image/png": "[encoded data removed]"
          },
          "metadata": {}
        }
      ]
    },
    {
      "cell_type": "code",
      "source": [
        "# create label encoding for binning ages\n",
        "encoder = LabelEncoder()\n",
        "df['ages_encoded'] = encoder.fit_transform(df['age_bin'])\n",
        "df.head()\n",
        "\n",
        "age_mapping = dict(zip(range(len(encoder.classes_)), encoder.classes_ ))\n",
        "age_mapping"
      ],
      "metadata": {
        "colab": {
          "base_uri": "https://localhost:8080/"
        },
        "id": "L5iiYXssWj2P",
        "outputId": "94659f6b-5ad9-44aa-dcb6-ef7177e1aaeb"
      },
      "execution_count": null,
      "outputs": [
        {
          "output_type": "execute_result",
          "data": {
            "text/plain": [
              "{0: 'Adult',\n",
              " 1: 'Child',\n",
              " 2: 'Elderly',\n",
              " 3: 'Senior',\n",
              " 4: 'Teenager',\n",
              " 5: 'Young Adult'}"
            ]
          },
          "metadata": {},
          "execution_count": 10
        }
      ]
    },
    {
      "cell_type": "code",
      "source": [
        "test, train = train_test_split(df, test_size=0.85, random_state=42)\n",
        "print(train.shape)\n",
        "print(test.shape)"
      ],
      "metadata": {
        "colab": {
          "base_uri": "https://localhost:8080/"
        },
        "id": "DGNpuPJKi2px",
        "outputId": "85e03160-d456-44ff-cca9-eb4ae1283ca7"
      },
      "execution_count": null,
      "outputs": [
        {
          "output_type": "stream",
          "name": "stdout",
          "text": [
            "(20150, 6)\n",
            "(3555, 6)\n"
          ]
        }
      ]
    },
    {
      "cell_type": "code",
      "execution_count": null,
      "metadata": {
        "id": "6xMTuMEFbRQi",
        "outputId": "b11ffdbd-7356-41ad-8a7f-952e88bc8215",
        "colab": {
          "base_uri": "https://localhost:8080/"
        }
      },
      "outputs": [
        {
          "output_type": "stream",
          "name": "stdout",
          "text": [
            "Shape of training images: (20150, 48, 48, 1)\n",
            "Shape of images: (3555, 48, 48, 1)\n"
          ]
        }
      ],
      "source": [
        "#Reshaping images in training & test datasets\n",
        "\n",
        "X_train = train['pixels']\n",
        "# normalizing pixels data\n",
        "X_train = X_train/255\n",
        "\n",
        "# reshape images\n",
        "X_train = np.array(X_train.tolist())\n",
        "X_train = X_train.reshape(-1,48,48, 1)\n",
        "print(f\"Shape of training images: {X_train.shape}\")\n",
        "\n",
        "\n",
        "X_test = test['pixels']\n",
        "# normalizing pixels data\n",
        "X_test = X_test/255\n",
        "\n",
        "# reshape images\n",
        "X_test = np.array(X_test.tolist())\n",
        "X_test = X_test.reshape(-1,48,48, 1)\n",
        "print(f\"Shape of images: {X_test.shape}\")"
      ]
    },
    {
      "cell_type": "code",
      "source": [
        "# create y training datasets for age regression model\n",
        "\n",
        "y_train_age = train['age']\n",
        "y_train_gender = train['gender']\n",
        "print(f\"Age array shape: {(y_train_age.shape)}\")\n",
        "print(f\"Gender array shape: {(y_train_gender.shape)}\")\n",
        "\n",
        "y_test_age = test['age']\n",
        "y_test_gender = test['gender']\n",
        "print(f\"Age array shape: {(y_test_age.shape)}\")\n",
        "print(f\"Gender array shape: {(y_test_gender.shape)}\")"
      ],
      "metadata": {
        "colab": {
          "base_uri": "https://localhost:8080/"
        },
        "id": "LD8i5CdCjDIp",
        "outputId": "ff05d539-df30-4b57-f3d9-f32b67ca23b4"
      },
      "execution_count": null,
      "outputs": [
        {
          "output_type": "stream",
          "name": "stdout",
          "text": [
            "Age array shape: (20150,)\n",
            "Gender array shape: (20150,)\n",
            "Age array shape: (3555,)\n",
            "Gender array shape: (3555,)\n"
          ]
        }
      ]
    },
    {
      "cell_type": "code",
      "source": [
        "y_train_age_binned = train['ages_encoded']\n",
        "print(f\"Age array shape: {(y_train_age_binned.shape)}\")\n",
        "\n",
        "y_test_age_binned = test['ages_encoded']\n",
        "print(f\"Age array shape: {(y_test_age_binned.shape)}\")"
      ],
      "metadata": {
        "colab": {
          "base_uri": "https://localhost:8080/"
        },
        "id": "7VWZRIUaWwPN",
        "outputId": "85293f6a-cc39-4bcd-bac7-a153f565e01e"
      },
      "execution_count": null,
      "outputs": [
        {
          "output_type": "stream",
          "name": "stdout",
          "text": [
            "Age array shape: (20150,)\n",
            "Age array shape: (3555,)\n"
          ]
        }
      ]
    },
    {
      "cell_type": "code",
      "source": [
        "input_shape = (48, 48, 1)\n",
        "num_classes = len(set(y_train_age_binned))"
      ],
      "metadata": {
        "id": "MrDmTGnHcWlj"
      },
      "execution_count": null,
      "outputs": []
    },
    {
      "cell_type": "markdown",
      "metadata": {
        "id": "vPMUZ6LfbRQi"
      },
      "source": [
        "# Model Developmnet"
      ]
    },
    {
      "cell_type": "code",
      "execution_count": null,
      "metadata": {
        "id": "oJ3bbBFWbRQj"
      },
      "outputs": [],
      "source": [
        "import tensorflow as tf\n",
        "from keras.models import Sequential, Model\n",
        "from keras.layers import Conv2D, MaxPooling2D, Activation, Dropout, Flatten, Dense, Input, RandomFlip, RandomRotation, RandomContrast, BatchNormalization\n",
        "from keras import optimizers\n",
        "from keras.preprocessing.image import ImageDataGenerator\n",
        "from tensorflow.keras.callbacks import EarlyStopping, ReduceLROnPlateau\n",
        "\n",
        "from math import sqrt\n",
        "from sklearn.metrics import confusion_matrix, f1_score, precision_score, recall_score, mean_squared_error, mean_absolute_error, accuracy_score, classification_report"
      ]
    },
    {
      "cell_type": "markdown",
      "source": [
        "### Gender Model (Binary Classification)"
      ],
      "metadata": {
        "id": "R61I0FHMuP_8"
      }
    },
    {
      "cell_type": "code",
      "source": [
        "y_train_gender.value_counts()"
      ],
      "metadata": {
        "colab": {
          "base_uri": "https://localhost:8080/"
        },
        "id": "2SOhpA7sqm_i",
        "outputId": "6fe0a7d1-4f2c-48ee-be61-53db8baeed9e"
      },
      "execution_count": null,
      "outputs": [
        {
          "output_type": "execute_result",
          "data": {
            "text/plain": [
              "0    10514\n",
              "1     9636\n",
              "Name: gender, dtype: int64"
            ]
          },
          "metadata": {},
          "execution_count": 17
        }
      ]
    },
    {
      "cell_type": "code",
      "source": [
        "y_test_gender.value_counts()"
      ],
      "metadata": {
        "colab": {
          "base_uri": "https://localhost:8080/"
        },
        "id": "-NsNcTYirhLQ",
        "outputId": "d8c5ea1b-e40a-4840-9dff-4f43402c94e7"
      },
      "execution_count": null,
      "outputs": [
        {
          "output_type": "execute_result",
          "data": {
            "text/plain": [
              "0    1877\n",
              "1    1678\n",
              "Name: gender, dtype: int64"
            ]
          },
          "metadata": {},
          "execution_count": 18
        }
      ]
    },
    {
      "cell_type": "code",
      "source": [
        "gender_model = Sequential([\n",
        "\n",
        "    # convolutional layers\n",
        "    Conv2D(64, kernel_size=(3, 3), activation='relu', input_shape = (input_shape)),\n",
        "    MaxPooling2D(pool_size=(2, 2)),\n",
        "\n",
        "    BatchNormalization(),\n",
        "\n",
        "    Conv2D(128, kernel_size=(3, 3), activation='relu', padding = 'same'),\n",
        "    Conv2D(128, kernel_size=(3, 3), activation='relu', padding = 'same'),\n",
        "    MaxPooling2D(pool_size=(2, 2)),\n",
        "    Dropout(0.3),\n",
        "    BatchNormalization(),\n",
        "\n",
        "    Conv2D(256, kernel_size=(3, 3), activation='relu', padding = 'same'),\n",
        "    Conv2D(256, kernel_size=(3, 3), activation='relu', padding = 'same'),\n",
        "    MaxPooling2D(pool_size=(2, 2)),\n",
        "    Dropout(0.3),\n",
        "    BatchNormalization(),\n",
        "\n",
        "    Conv2D(512, kernel_size=(3, 3), activation='relu', padding = 'same'),\n",
        "    MaxPooling2D(pool_size=(2, 2)),\n",
        "    Dropout(0.5),\n",
        "    BatchNormalization(),\n",
        "\n",
        "    # Conv2D(128, kernel_size=(3, 3), activation='relu', input_shape = (input_shape)),\n",
        "    # MaxPooling2D(pool_size=(2, 2)),\n",
        "    # BatchNormalization(),\n",
        "    # Dropout(0.5),\n",
        "\n",
        "    # Conv2D(256, kernel_size=(3, 3), activation='relu', padding = 'same'),\n",
        "    # MaxPooling2D(pool_size=(2, 2)),\n",
        "\n",
        "    Flatten(),\n",
        "\n",
        "    # Dense(256, activation = 'relu'),\n",
        "    # Dropout(0.4),\n",
        "    Dense(128, activation = 'relu'),\n",
        "    Dropout(0.4),\n",
        "\n",
        "    Dense(1, activation = 'sigmoid')\n",
        "\n",
        "])\n",
        "gender_model.compile(optimizer = 'adam', loss = 'binary_crossentropy', metrics = ['accuracy'])\n",
        "gender_model.build(input_shape)\n",
        "gender_model.summary()"
      ],
      "metadata": {
        "colab": {
          "base_uri": "https://localhost:8080/"
        },
        "id": "4UP6Tw4uuJiO",
        "outputId": "6d10cabd-d4f2-4098-d093-b48b651260fe"
      },
      "execution_count": null,
      "outputs": [
        {
          "output_type": "stream",
          "name": "stdout",
          "text": [
            "Model: \"sequential\"\n",
            "_________________________________________________________________\n",
            " Layer (type)                Output Shape              Param #   \n",
            "=================================================================\n",
            " conv2d (Conv2D)             (None, 46, 46, 64)        640       \n",
            "                                                                 \n",
            " max_pooling2d (MaxPooling2  (None, 23, 23, 64)        0         \n",
            " D)                                                              \n",
            "                                                                 \n",
            " batch_normalization (Batch  (None, 23, 23, 64)        256       \n",
            " Normalization)                                                  \n",
            "                                                                 \n",
            " conv2d_1 (Conv2D)           (None, 23, 23, 128)       73856     \n",
            "                                                                 \n",
            " conv2d_2 (Conv2D)           (None, 23, 23, 128)       147584    \n",
            "                                                                 \n",
            " max_pooling2d_1 (MaxPoolin  (None, 11, 11, 128)       0         \n",
            " g2D)                                                            \n",
            "                                                                 \n",
            " dropout (Dropout)           (None, 11, 11, 128)       0         \n",
            "                                                                 \n",
            " batch_normalization_1 (Bat  (None, 11, 11, 128)       512       \n",
            " chNormalization)                                                \n",
            "                                                                 \n",
            " conv2d_3 (Conv2D)           (None, 11, 11, 256)       295168    \n",
            "                                                                 \n",
            " conv2d_4 (Conv2D)           (None, 11, 11, 256)       590080    \n",
            "                                                                 \n",
            " max_pooling2d_2 (MaxPoolin  (None, 5, 5, 256)         0         \n",
            " g2D)                                                            \n",
            "                                                                 \n",
            " dropout_1 (Dropout)         (None, 5, 5, 256)         0         \n",
            "                                                                 \n",
            " batch_normalization_2 (Bat  (None, 5, 5, 256)         1024      \n",
            " chNormalization)                                                \n",
            "                                                                 \n",
            " conv2d_5 (Conv2D)           (None, 5, 5, 512)         1180160   \n",
            "                                                                 \n",
            " max_pooling2d_3 (MaxPoolin  (None, 2, 2, 512)         0         \n",
            " g2D)                                                            \n",
            "                                                                 \n",
            " dropout_2 (Dropout)         (None, 2, 2, 512)         0         \n",
            "                                                                 \n",
            " batch_normalization_3 (Bat  (None, 2, 2, 512)         2048      \n",
            " chNormalization)                                                \n",
            "                                                                 \n",
            " flatten (Flatten)           (None, 2048)              0         \n",
            "                                                                 \n",
            " dense (Dense)               (None, 128)               262272    \n",
            "                                                                 \n",
            " dropout_3 (Dropout)         (None, 128)               0         \n",
            "                                                                 \n",
            " dense_1 (Dense)             (None, 1)                 129       \n",
            "                                                                 \n",
            "=================================================================\n",
            "Total params: 2553729 (9.74 MB)\n",
            "Trainable params: 2551809 (9.73 MB)\n",
            "Non-trainable params: 1920 (7.50 KB)\n",
            "_________________________________________________________________\n"
          ]
        }
      ]
    },
    {
      "cell_type": "code",
      "source": [
        "logdir = os.path.join(\"logs/gender_model\", datetime.datetime.now().strftime(\"%Y%m%d-%H%M%S\"))\n",
        "tensorboard_callback = tf.keras.callbacks.TensorBoard(logdir, histogram_freq=1)\n",
        "\n",
        "callbacks = [tensorboard_callback,\n",
        "             EarlyStopping(patience=4, monitor='val_loss', mode='min'),\n",
        "             ReduceLROnPlateau(patience=2, verbose=1)\n",
        "             ]\n",
        "\n",
        "history = gender_model.fit(X_train, y_train_gender,\n",
        "                        epochs=30,\n",
        "                        batch_size=64,\n",
        "                        # callbacks=callbacks,\n",
        "                        validation_split= 0.2,\n",
        "                        validation_data=(X_test, y_test_gender))"
      ],
      "metadata": {
        "colab": {
          "base_uri": "https://localhost:8080/"
        },
        "id": "4rwxSkr1vCje",
        "outputId": "c4cb179f-adbc-416e-c67c-2d4c6560ed89"
      },
      "execution_count": null,
      "outputs": [
        {
          "output_type": "stream",
          "name": "stdout",
          "text": [
            "Epoch 1/30\n",
            "315/315 [==============================] - 11s 14ms/step - loss: 0.5198 - accuracy: 0.7616 - val_loss: 0.7952 - val_accuracy: 0.5288\n",
            "Epoch 2/30\n",
            "315/315 [==============================] - 4s 12ms/step - loss: 0.3269 - accuracy: 0.8553 - val_loss: 0.3454 - val_accuracy: 0.8473\n",
            "Epoch 3/30\n",
            "315/315 [==============================] - 4s 12ms/step - loss: 0.2857 - accuracy: 0.8776 - val_loss: 0.2588 - val_accuracy: 0.8838\n",
            "Epoch 4/30\n",
            "315/315 [==============================] - 4s 12ms/step - loss: 0.2623 - accuracy: 0.8846 - val_loss: 0.2637 - val_accuracy: 0.8869\n",
            "Epoch 5/30\n",
            "315/315 [==============================] - 4s 12ms/step - loss: 0.2512 - accuracy: 0.8917 - val_loss: 0.2767 - val_accuracy: 0.8712\n",
            "Epoch 6/30\n",
            "315/315 [==============================] - 4s 12ms/step - loss: 0.2276 - accuracy: 0.9023 - val_loss: 0.2491 - val_accuracy: 0.9010\n",
            "Epoch 7/30\n",
            "315/315 [==============================] - 4s 12ms/step - loss: 0.2172 - accuracy: 0.9046 - val_loss: 0.2348 - val_accuracy: 0.8965\n",
            "Epoch 8/30\n",
            "315/315 [==============================] - 4s 12ms/step - loss: 0.2044 - accuracy: 0.9130 - val_loss: 0.2432 - val_accuracy: 0.9038\n",
            "Epoch 9/30\n",
            "315/315 [==============================] - 4s 12ms/step - loss: 0.1992 - accuracy: 0.9156 - val_loss: 0.2692 - val_accuracy: 0.8838\n",
            "Epoch 10/30\n",
            "315/315 [==============================] - 4s 12ms/step - loss: 0.1896 - accuracy: 0.9198 - val_loss: 0.2309 - val_accuracy: 0.9013\n",
            "Epoch 11/30\n",
            "315/315 [==============================] - 4s 12ms/step - loss: 0.1763 - accuracy: 0.9265 - val_loss: 0.2413 - val_accuracy: 0.8956\n",
            "Epoch 12/30\n",
            "315/315 [==============================] - 4s 12ms/step - loss: 0.1683 - accuracy: 0.9326 - val_loss: 0.2407 - val_accuracy: 0.9027\n",
            "Epoch 13/30\n",
            "315/315 [==============================] - 4s 12ms/step - loss: 0.1588 - accuracy: 0.9338 - val_loss: 0.2487 - val_accuracy: 0.9021\n",
            "Epoch 14/30\n",
            "315/315 [==============================] - 4s 12ms/step - loss: 0.1505 - accuracy: 0.9387 - val_loss: 0.2388 - val_accuracy: 0.9030\n",
            "Epoch 15/30\n",
            "315/315 [==============================] - 4s 12ms/step - loss: 0.1369 - accuracy: 0.9440 - val_loss: 0.3075 - val_accuracy: 0.8903\n",
            "Epoch 16/30\n",
            "315/315 [==============================] - 4s 12ms/step - loss: 0.1365 - accuracy: 0.9429 - val_loss: 0.2788 - val_accuracy: 0.9021\n",
            "Epoch 17/30\n",
            "315/315 [==============================] - 4s 12ms/step - loss: 0.1325 - accuracy: 0.9459 - val_loss: 0.2826 - val_accuracy: 0.9027\n",
            "Epoch 18/30\n",
            "315/315 [==============================] - 4s 12ms/step - loss: 0.1195 - accuracy: 0.9504 - val_loss: 0.2904 - val_accuracy: 0.9035\n",
            "Epoch 19/30\n",
            "315/315 [==============================] - 4s 12ms/step - loss: 0.1137 - accuracy: 0.9559 - val_loss: 0.3017 - val_accuracy: 0.8999\n",
            "Epoch 20/30\n",
            "315/315 [==============================] - 4s 12ms/step - loss: 0.1114 - accuracy: 0.9563 - val_loss: 0.2894 - val_accuracy: 0.9072\n",
            "Epoch 21/30\n",
            "315/315 [==============================] - 4s 12ms/step - loss: 0.1052 - accuracy: 0.9572 - val_loss: 0.3279 - val_accuracy: 0.8999\n",
            "Epoch 22/30\n",
            "315/315 [==============================] - 4s 12ms/step - loss: 0.0965 - accuracy: 0.9619 - val_loss: 0.3298 - val_accuracy: 0.9052\n",
            "Epoch 23/30\n",
            "315/315 [==============================] - 4s 12ms/step - loss: 0.0984 - accuracy: 0.9614 - val_loss: 0.3195 - val_accuracy: 0.8970\n",
            "Epoch 24/30\n",
            "315/315 [==============================] - 4s 12ms/step - loss: 0.0849 - accuracy: 0.9654 - val_loss: 0.3264 - val_accuracy: 0.9038\n",
            "Epoch 25/30\n",
            "315/315 [==============================] - 4s 12ms/step - loss: 0.0862 - accuracy: 0.9672 - val_loss: 0.3356 - val_accuracy: 0.9055\n",
            "Epoch 26/30\n",
            "315/315 [==============================] - 4s 12ms/step - loss: 0.0768 - accuracy: 0.9694 - val_loss: 0.3203 - val_accuracy: 0.9066\n",
            "Epoch 27/30\n",
            "315/315 [==============================] - 4s 12ms/step - loss: 0.0767 - accuracy: 0.9708 - val_loss: 0.2805 - val_accuracy: 0.9105\n",
            "Epoch 28/30\n",
            "315/315 [==============================] - 4s 12ms/step - loss: 0.0659 - accuracy: 0.9742 - val_loss: 0.3264 - val_accuracy: 0.9089\n",
            "Epoch 29/30\n",
            "315/315 [==============================] - 4s 12ms/step - loss: 0.0670 - accuracy: 0.9737 - val_loss: 0.3164 - val_accuracy: 0.9077\n",
            "Epoch 30/30\n",
            "315/315 [==============================] - 4s 12ms/step - loss: 0.0639 - accuracy: 0.9740 - val_loss: 0.3655 - val_accuracy: 0.9089\n"
          ]
        }
      ]
    },
    {
      "cell_type": "code",
      "source": [
        "gender_model.save('/content/drive/MyDrive/comp4449_final/content 2/models/gender/1')"
      ],
      "metadata": {
        "id": "flTr0BISHC3w"
      },
      "execution_count": null,
      "outputs": []
    },
    {
      "cell_type": "code",
      "source": [
        "# from tensorboard import notebook\n",
        "# notebook.list()\n",
        "# # load tensorboard\n",
        "# notebook.display(port=6006, height=1000)\n",
        "# %load_ext tensorboard\n",
        "# %tensorboard --logdir logs"
      ],
      "metadata": {
        "id": "x9C8o5rfIA0p"
      },
      "execution_count": null,
      "outputs": []
    },
    {
      "cell_type": "markdown",
      "source": [
        "#### Model Evaluation\n",
        "\n",
        "https://datascience.stackexchange.com/questions/42599/what-is-the-relationship-between-the-accuracy-and-the-loss-in-deep-learning\n",
        "\n",
        "Model 0 - loss: 0.3026 - accuracy: 0.9150, pred_accuracy = 0.52 <br>\n",
        "Model 1 -  <br>\n",
        "Model 2 -  <br>\n",
        "Model 3 -  <br>\n",
        "Model 4 -  <br>\n",
        "Model 5 -  <br>\n",
        "\n",
        "** Model 0 & 5 seem to be performing the best, took out dense later in model 5"
      ],
      "metadata": {
        "id": "7Gb3eSojA-tL"
      }
    },
    {
      "cell_type": "code",
      "source": [
        "def evaluate_classification_model(labels, preds, cm_labels):\n",
        "\n",
        "  cm = confusion_matrix(labels, preds)\n",
        "  sns.heatmap(cm, annot = True, fmt ='.0f', xticklabels=cm_labels, yticklabels=cm_labels)\n",
        "  plt.ylabel('True Label')\n",
        "  plt.xlabel('Predictied Label')\n",
        "  plt.title('Gender Classficiation')\n",
        "  print(f\"Accuracy: {accuracy_score(labels, preds)}\")\n",
        "  print(f\"Precision: {precision_score(labels, preds)}\")\n",
        "  print(f\"Recall: {recall_score(labels, preds)}\")\n",
        "  print(f\"F1 Score: {f1_score(labels, preds)}\")\n",
        "  # print(classification_report(labels, preds, target_names = cm_labels))\n",
        "\n",
        "  return"
      ],
      "metadata": {
        "id": "vxa4Bmy-Xwae"
      },
      "execution_count": null,
      "outputs": []
    },
    {
      "cell_type": "code",
      "source": [
        "acc = history.history['accuracy']\n",
        "val_acc = history.history['val_accuracy']\n",
        "epochs = range(len(acc))\n",
        "\n",
        "plt.plot(epochs, acc, 'b', label='Training Accuracy')\n",
        "plt.plot(epochs, val_acc, 'r', label='Validation Accuracy')\n",
        "plt.title('Gender Classification - Accuracy')\n",
        "plt.legend()\n",
        "plt.figure()\n",
        "\n",
        "\n",
        "loss = history.history['loss']\n",
        "val_loss = history.history['val_loss']\n",
        "epochs = range(len(loss))\n",
        "\n",
        "plt.plot(epochs, loss, 'b', label='Training Loss')\n",
        "plt.plot(epochs, val_loss, 'r', label='Validation Loss')\n",
        "plt.title('Gender Prediction - Loss')\n",
        "plt.legend()\n",
        "plt.show()"
      ],
      "metadata": {
        "colab": {
          "base_uri": "https://localhost:8080/",
          "height": 887
        },
        "id": "lcbzqFnjBA_6",
        "outputId": "50f3c571-d233-4938-9779-a95188afa66e"
      },
      "execution_count": null,
      "outputs": [
        {
          "output_type": "display_data",
          "data": {
            "text/plain": [
              "<Figure size 640x480 with 1 Axes>"
            ],
            "image/png": "[encoded data removed]"
          },
          "metadata": {}
        },
        {
          "output_type": "display_data",
          "data": {
            "text/plain": [
              "<Figure size 640x480 with 1 Axes>"
            ],
            "image/png": "[encoded data removed]"
          },
          "metadata": {}
        }
      ]
    },
    {
      "cell_type": "code",
      "source": [
        "valid_score = gender_model.evaluate(X_test, y_test_gender, verbose=1)"
      ],
      "metadata": {
        "colab": {
          "base_uri": "https://localhost:8080/"
        },
        "id": "auzlAdVzBmuI",
        "outputId": "ecf70129-0207-4ce0-adc9-5dfde2d34b05"
      },
      "execution_count": null,
      "outputs": [
        {
          "output_type": "stream",
          "name": "stdout",
          "text": [
            "112/112 [==============================] - 1s 4ms/step - loss: 0.3655 - accuracy: 0.9089\n"
          ]
        }
      ]
    },
    {
      "cell_type": "code",
      "source": [
        "y_pred_gender = gender_model.predict(X_test[:500])\n",
        "pred_classes = np.argmax(y_pred_gender,axis=1)"
      ],
      "metadata": {
        "colab": {
          "base_uri": "https://localhost:8080/"
        },
        "id": "Kxwu184SByZN",
        "outputId": "0f409c2e-0375-4164-edd2-003b33e1dd7c"
      },
      "execution_count": null,
      "outputs": [
        {
          "output_type": "stream",
          "name": "stdout",
          "text": [
            "16/16 [==============================] - 0s 8ms/step\n"
          ]
        }
      ]
    },
    {
      "cell_type": "code",
      "source": [
        "evaluate_classification_model(y_test_gender.values[:500], pred_classes, ['Male', 'Female'])"
      ],
      "metadata": {
        "colab": {
          "base_uri": "https://localhost:8080/",
          "height": 541
        },
        "id": "7BFLk5N2CDkg",
        "outputId": "d27ad420-7ab6-42d5-c048-766e1e239170"
      },
      "execution_count": null,
      "outputs": [
        {
          "output_type": "stream",
          "name": "stdout",
          "text": [
            "Accuracy: 0.536\n",
            "Precision: 0.0\n",
            "Recall: 0.0\n",
            "F1 Score: 0.0\n"
          ]
        },
        {
          "output_type": "display_data",
          "data": {
            "text/plain": [
              "<Figure size 640x480 with 2 Axes>"
            ],
            "image/png": "[encoded data removed]"
          },
          "metadata": {}
        }
      ]
    },
    {
      "cell_type": "code",
      "source": [
        "def predict_gender(label, img):\n",
        "  gender_map = {0 : \"Male\", 1 : \"Female\"}\n",
        "\n",
        "  print(f\"Actual gender: {gender_map[label]}\")\n",
        "\n",
        "  m_prediction = gender_model.predict(img.reshape(-1,48,48, 1), verbose = 0)\n",
        "\n",
        "  print(f\"Predicted gender: {gender_map[np.argmax(m_prediction, axis = 1)[0]]}\")\n",
        "\n",
        "  return\n",
        "\n",
        "\n",
        "pred = test.sample()\n",
        "pred\n",
        "predict_gender(pred.values[0][2], pred.values[0][3])\n",
        "# test.iloc[0]"
      ],
      "metadata": {
        "colab": {
          "base_uri": "https://localhost:8080/"
        },
        "id": "mwX9bSYdTJG3",
        "outputId": "de684693-7222-4aaa-bd97-217a8e629ee1"
      },
      "execution_count": null,
      "outputs": [
        {
          "output_type": "stream",
          "name": "stdout",
          "text": [
            "Actual gender: Male\n",
            "Predicted gender: Male\n"
          ]
        }
      ]
    },
    {
      "cell_type": "code",
      "source": [],
      "metadata": {
        "id": "YE71IX_CVU2-"
      },
      "execution_count": null,
      "outputs": []
    }
  ],
  "metadata": {
    "kernelspec": {
      "display_name": "Python 3",
      "name": "python3"
    },
    "language_info": {
      "codemirror_mode": {
        "name": "ipython",
        "version": 3
      },
      "file_extension": ".py",
      "mimetype": "text/x-python",
      "name": "python",
      "nbconvert_exporter": "python",
      "pygments_lexer": "ipython3",
      "version": "3.11.5"
    },
    "colab": {
      "provenance": [],
      "machine_shape": "hm",
      "gpuType": "V100",
      "toc_visible": true,
      "include_colab_link": true
    },
    "accelerator": "GPU"
  },
  "nbformat": 4,
  "nbformat_minor": 0
}