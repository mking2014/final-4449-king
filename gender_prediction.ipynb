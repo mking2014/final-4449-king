{
  "cells": [
    {
      "cell_type": "markdown",
      "metadata": {
        "id": "view-in-github",
        "colab_type": "text"
      },
      "source": [
        "<a href=\"https://colab.research.google.com/github/mking2014/final-4449-king/blob/main/gender_prediction.ipynb\" target=\"_parent\"><img src=\"https://colab.research.google.com/assets/colab-badge.svg\" alt=\"Open In Colab\"/></a>"
      ]
    },
    {
      "cell_type": "markdown",
      "source": [
        "#Notebook Overview\n",
        "\n",
        "### Purpose\n",
        "Notebook builds model for predicting a gender given their image.\n",
        "\n",
        "### Results\n",
        "\n",
        "Model's 3 performs the best"
      ],
      "metadata": {
        "id": "vX6Yu5HuUTfY"
      }
    },
    {
      "cell_type": "code",
      "execution_count": 1,
      "metadata": {
        "id": "2VgEnZvQbRQc"
      },
      "outputs": [],
      "source": [
        "import pandas as pd\n",
        "import numpy as np\n",
        "import matplotlib.pyplot as plt\n",
        "import seaborn as sns\n",
        "import os\n",
        "import datetime\n",
        "\n",
        "from sklearn.model_selection import train_test_split\n",
        "from sklearn.preprocessing import LabelEncoder\n",
        "\n",
        "import warnings\n",
        "warnings.filterwarnings('ignore')"
      ]
    },
    {
      "cell_type": "code",
      "source": [
        "# Connection to google drive\n",
        "from google.colab import drive\n",
        "drive.mount('/content/drive')"
      ],
      "metadata": {
        "colab": {
          "base_uri": "https://localhost:8080/"
        },
        "id": "LMmHC6pgRRcF",
        "outputId": "237e8cfe-8476-4f6e-f38e-0329c2b84448"
      },
      "execution_count": 2,
      "outputs": [
        {
          "output_type": "stream",
          "name": "stdout",
          "text": [
            "Mounted at /content/drive\n"
          ]
        }
      ]
    },
    {
      "cell_type": "markdown",
      "metadata": {
        "id": "dIN3hKEzbRQe"
      },
      "source": [
        "# Load Data"
      ]
    },
    {
      "cell_type": "markdown",
      "source": [
        "0 = Male <br>\n",
        "1 = Female"
      ],
      "metadata": {
        "id": "k9g8Uvb3audw"
      }
    },
    {
      "cell_type": "code",
      "execution_count": 3,
      "metadata": {
        "id": "WjqMjbvYbRQf",
        "outputId": "f6acd8be-4f6e-4461-dec1-d81d3a350715",
        "colab": {
          "base_uri": "https://localhost:8080/",
          "height": 224
        }
      },
      "outputs": [
        {
          "output_type": "stream",
          "name": "stdout",
          "text": [
            "Dataset size: (23705, 4)\n"
          ]
        },
        {
          "output_type": "execute_result",
          "data": {
            "text/plain": [
              "   age  ethnicity  gender                                             pixels\n",
              "0    1          2       0  129 128 128 126 127 130 133 135 139 142 145 14...\n",
              "1    1          2       0  164 74 111 168 169 171 175 182 184 188 193 199...\n",
              "2    1          2       0  67 70 71 70 69 67 70 79 90 103 116 132 145 155...\n",
              "3    1          2       0  193 197 198 200 199 200 202 203 204 205 208 21...\n",
              "4    1          2       0  202 205 209 210 209 209 210 211 212 214 218 21..."
            ],
            "text/html": [
              "\n",
              "  <div id=\"df-206a0ba9-196e-4d54-8541-08bc9603c779\" class=\"colab-df-container\">\n",
              "    <div>\n",
              "<style scoped>\n",
              "    .dataframe tbody tr th:only-of-type {\n",
              "        vertical-align: middle;\n",
              "    }\n",
              "\n",
              "    .dataframe tbody tr th {\n",
              "        vertical-align: top;\n",
              "    }\n",
              "\n",
              "    .dataframe thead th {\n",
              "        text-align: right;\n",
              "    }\n",
              "</style>\n",
              "<table border=\"1\" class=\"dataframe\">\n",
              "  <thead>\n",
              "    <tr style=\"text-align: right;\">\n",
              "      <th></th>\n",
              "      <th>age</th>\n",
              "      <th>ethnicity</th>\n",
              "      <th>gender</th>\n",
              "      <th>pixels</th>\n",
              "    </tr>\n",
              "  </thead>\n",
              "  <tbody>\n",
              "    <tr>\n",
              "      <th>0</th>\n",
              "      <td>1</td>\n",
              "      <td>2</td>\n",
              "      <td>0</td>\n",
              "      <td>129 128 128 126 127 130 133 135 139 142 145 14...</td>\n",
              "    </tr>\n",
              "    <tr>\n",
              "      <th>1</th>\n",
              "      <td>1</td>\n",
              "      <td>2</td>\n",
              "      <td>0</td>\n",
              "      <td>164 74 111 168 169 171 175 182 184 188 193 199...</td>\n",
              "    </tr>\n",
              "    <tr>\n",
              "      <th>2</th>\n",
              "      <td>1</td>\n",
              "      <td>2</td>\n",
              "      <td>0</td>\n",
              "      <td>67 70 71 70 69 67 70 79 90 103 116 132 145 155...</td>\n",
              "    </tr>\n",
              "    <tr>\n",
              "      <th>3</th>\n",
              "      <td>1</td>\n",
              "      <td>2</td>\n",
              "      <td>0</td>\n",
              "      <td>193 197 198 200 199 200 202 203 204 205 208 21...</td>\n",
              "    </tr>\n",
              "    <tr>\n",
              "      <th>4</th>\n",
              "      <td>1</td>\n",
              "      <td>2</td>\n",
              "      <td>0</td>\n",
              "      <td>202 205 209 210 209 209 210 211 212 214 218 21...</td>\n",
              "    </tr>\n",
              "  </tbody>\n",
              "</table>\n",
              "</div>\n",
              "    <div class=\"colab-df-buttons\">\n",
              "\n",
              "  <div class=\"colab-df-container\">\n",
              "    <button class=\"colab-df-convert\" onclick=\"convertToInteractive('df-206a0ba9-196e-4d54-8541-08bc9603c779')\"\n",
              "            title=\"Convert this dataframe to an interactive table.\"\n",
              "            style=\"display:none;\">\n",
              "\n",
              "  <svg xmlns=\"http://www.w3.org/2000/svg\" height=\"24px\" viewBox=\"0 -960 960 960\">\n",
              "    <path d=\"M120-120v-720h720v720H120Zm60-500h600v-160H180v160Zm220 220h160v-160H400v160Zm0 220h160v-160H400v160ZM180-400h160v-160H180v160Zm440 0h160v-160H620v160ZM180-180h160v-160H180v160Zm440 0h160v-160H620v160Z\"/>\n",
              "  </svg>\n",
              "    </button>\n",
              "\n",
              "  <style>\n",
              "    .colab-df-container {\n",
              "      display:flex;\n",
              "      gap: 12px;\n",
              "    }\n",
              "\n",
              "    .colab-df-convert {\n",
              "      background-color: #E8F0FE;\n",
              "      border: none;\n",
              "      border-radius: 50%;\n",
              "      cursor: pointer;\n",
              "      display: none;\n",
              "      fill: #1967D2;\n",
              "      height: 32px;\n",
              "      padding: 0 0 0 0;\n",
              "      width: 32px;\n",
              "    }\n",
              "\n",
              "    .colab-df-convert:hover {\n",
              "      background-color: #E2EBFA;\n",
              "      box-shadow: 0px 1px 2px rgba(60, 64, 67, 0.3), 0px 1px 3px 1px rgba(60, 64, 67, 0.15);\n",
              "      fill: #174EA6;\n",
              "    }\n",
              "\n",
              "    .colab-df-buttons div {\n",
              "      margin-bottom: 4px;\n",
              "    }\n",
              "\n",
              "    [theme=dark] .colab-df-convert {\n",
              "      background-color: #3B4455;\n",
              "      fill: #D2E3FC;\n",
              "    }\n",
              "\n",
              "    [theme=dark] .colab-df-convert:hover {\n",
              "      background-color: #434B5C;\n",
              "      box-shadow: 0px 1px 3px 1px rgba(0, 0, 0, 0.15);\n",
              "      filter: drop-shadow(0px 1px 2px rgba(0, 0, 0, 0.3));\n",
              "      fill: #FFFFFF;\n",
              "    }\n",
              "  </style>\n",
              "\n",
              "    <script>\n",
              "      const buttonEl =\n",
              "        document.querySelector('#df-206a0ba9-196e-4d54-8541-08bc9603c779 button.colab-df-convert');\n",
              "      buttonEl.style.display =\n",
              "        google.colab.kernel.accessAllowed ? 'block' : 'none';\n",
              "\n",
              "      async function convertToInteractive(key) {\n",
              "        const element = document.querySelector('#df-206a0ba9-196e-4d54-8541-08bc9603c779');\n",
              "        const dataTable =\n",
              "          await google.colab.kernel.invokeFunction('convertToInteractive',\n",
              "                                                    [key], {});\n",
              "        if (!dataTable) return;\n",
              "\n",
              "        const docLinkHtml = 'Like what you see? Visit the ' +\n",
              "          '<a target=\"_blank\" href=https://colab.research.google.com/notebooks/data_table.ipynb>data table notebook</a>'\n",
              "          + ' to learn more about interactive tables.';\n",
              "        element.innerHTML = '';\n",
              "        dataTable['output_type'] = 'display_data';\n",
              "        await google.colab.output.renderOutput(dataTable, element);\n",
              "        const docLink = document.createElement('div');\n",
              "        docLink.innerHTML = docLinkHtml;\n",
              "        element.appendChild(docLink);\n",
              "      }\n",
              "    </script>\n",
              "  </div>\n",
              "\n",
              "\n",
              "<div id=\"df-87e8ed22-f504-45de-b6e9-44a3f110ce33\">\n",
              "  <button class=\"colab-df-quickchart\" onclick=\"quickchart('df-87e8ed22-f504-45de-b6e9-44a3f110ce33')\"\n",
              "            title=\"Suggest charts\"\n",
              "            style=\"display:none;\">\n",
              "\n",
              "<svg xmlns=\"http://www.w3.org/2000/svg\" height=\"24px\"viewBox=\"0 0 24 24\"\n",
              "     width=\"24px\">\n",
              "    <g>\n",
              "        <path d=\"M19 3H5c-1.1 0-2 .9-2 2v14c0 1.1.9 2 2 2h14c1.1 0 2-.9 2-2V5c0-1.1-.9-2-2-2zM9 17H7v-7h2v7zm4 0h-2V7h2v10zm4 0h-2v-4h2v4z\"/>\n",
              "    </g>\n",
              "</svg>\n",
              "  </button>\n",
              "\n",
              "<style>\n",
              "  .colab-df-quickchart {\n",
              "      --bg-color: #E8F0FE;\n",
              "      --fill-color: #1967D2;\n",
              "      --hover-bg-color: #E2EBFA;\n",
              "      --hover-fill-color: #174EA6;\n",
              "      --disabled-fill-color: #AAA;\n",
              "      --disabled-bg-color: #DDD;\n",
              "  }\n",
              "\n",
              "  [theme=dark] .colab-df-quickchart {\n",
              "      --bg-color: #3B4455;\n",
              "      --fill-color: #D2E3FC;\n",
              "      --hover-bg-color: #434B5C;\n",
              "      --hover-fill-color: #FFFFFF;\n",
              "      --disabled-bg-color: #3B4455;\n",
              "      --disabled-fill-color: #666;\n",
              "  }\n",
              "\n",
              "  .colab-df-quickchart {\n",
              "    background-color: var(--bg-color);\n",
              "    border: none;\n",
              "    border-radius: 50%;\n",
              "    cursor: pointer;\n",
              "    display: none;\n",
              "    fill: var(--fill-color);\n",
              "    height: 32px;\n",
              "    padding: 0;\n",
              "    width: 32px;\n",
              "  }\n",
              "\n",
              "  .colab-df-quickchart:hover {\n",
              "    background-color: var(--hover-bg-color);\n",
              "    box-shadow: 0 1px 2px rgba(60, 64, 67, 0.3), 0 1px 3px 1px rgba(60, 64, 67, 0.15);\n",
              "    fill: var(--button-hover-fill-color);\n",
              "  }\n",
              "\n",
              "  .colab-df-quickchart-complete:disabled,\n",
              "  .colab-df-quickchart-complete:disabled:hover {\n",
              "    background-color: var(--disabled-bg-color);\n",
              "    fill: var(--disabled-fill-color);\n",
              "    box-shadow: none;\n",
              "  }\n",
              "\n",
              "  .colab-df-spinner {\n",
              "    border: 2px solid var(--fill-color);\n",
              "    border-color: transparent;\n",
              "    border-bottom-color: var(--fill-color);\n",
              "    animation:\n",
              "      spin 1s steps(1) infinite;\n",
              "  }\n",
              "\n",
              "  @keyframes spin {\n",
              "    0% {\n",
              "      border-color: transparent;\n",
              "      border-bottom-color: var(--fill-color);\n",
              "      border-left-color: var(--fill-color);\n",
              "    }\n",
              "    20% {\n",
              "      border-color: transparent;\n",
              "      border-left-color: var(--fill-color);\n",
              "      border-top-color: var(--fill-color);\n",
              "    }\n",
              "    30% {\n",
              "      border-color: transparent;\n",
              "      border-left-color: var(--fill-color);\n",
              "      border-top-color: var(--fill-color);\n",
              "      border-right-color: var(--fill-color);\n",
              "    }\n",
              "    40% {\n",
              "      border-color: transparent;\n",
              "      border-right-color: var(--fill-color);\n",
              "      border-top-color: var(--fill-color);\n",
              "    }\n",
              "    60% {\n",
              "      border-color: transparent;\n",
              "      border-right-color: var(--fill-color);\n",
              "    }\n",
              "    80% {\n",
              "      border-color: transparent;\n",
              "      border-right-color: var(--fill-color);\n",
              "      border-bottom-color: var(--fill-color);\n",
              "    }\n",
              "    90% {\n",
              "      border-color: transparent;\n",
              "      border-bottom-color: var(--fill-color);\n",
              "    }\n",
              "  }\n",
              "</style>\n",
              "\n",
              "  <script>\n",
              "    async function quickchart(key) {\n",
              "      const quickchartButtonEl =\n",
              "        document.querySelector('#' + key + ' button');\n",
              "      quickchartButtonEl.disabled = true;  // To prevent multiple clicks.\n",
              "      quickchartButtonEl.classList.add('colab-df-spinner');\n",
              "      try {\n",
              "        const charts = await google.colab.kernel.invokeFunction(\n",
              "            'suggestCharts', [key], {});\n",
              "      } catch (error) {\n",
              "        console.error('Error during call to suggestCharts:', error);\n",
              "      }\n",
              "      quickchartButtonEl.classList.remove('colab-df-spinner');\n",
              "      quickchartButtonEl.classList.add('colab-df-quickchart-complete');\n",
              "    }\n",
              "    (() => {\n",
              "      let quickchartButtonEl =\n",
              "        document.querySelector('#df-87e8ed22-f504-45de-b6e9-44a3f110ce33 button');\n",
              "      quickchartButtonEl.style.display =\n",
              "        google.colab.kernel.accessAllowed ? 'block' : 'none';\n",
              "    })();\n",
              "  </script>\n",
              "</div>\n",
              "\n",
              "    </div>\n",
              "  </div>\n"
            ]
          },
          "metadata": {},
          "execution_count": 3
        }
      ],
      "source": [
        "df = pd.read_csv('/content/drive/MyDrive/comp4449_final/data/age_gender.csv')\n",
        "df = df.drop(columns = ['img_name'])\n",
        "print(f\"Dataset size: {df.shape}\")\n",
        "df.head()"
      ]
    },
    {
      "cell_type": "code",
      "execution_count": 4,
      "metadata": {
        "id": "X0bFMw87bRQg"
      },
      "outputs": [],
      "source": [
        "# Converting pixels into numpy array\n",
        "df['pixels']=df['pixels'].apply(lambda x:  np.array(x.split(), dtype=\"float32\"))"
      ]
    },
    {
      "cell_type": "markdown",
      "metadata": {
        "id": "L2wAmqVPbRQi"
      },
      "source": [
        "# Data Preparation\n",
        "\n",
        "Data is split into training and test datasets"
      ]
    },
    {
      "cell_type": "code",
      "source": [
        "sns.countplot(x=\"gender\", palette='spring', data=df.replace({\"gender\" : {0 : \"Male\", 1 : \"Female\"}}))\n",
        "plt.title('Gender Distribution')\n",
        "plt.xlabel('Gender')\n",
        "plt.ylabel('Count')"
      ],
      "metadata": {
        "colab": {
          "base_uri": "https://localhost:8080/",
          "height": 490
        },
        "id": "PZePPRZtft3P",
        "outputId": "bbafd18b-b644-42a2-e898-ff031eeba4d3"
      },
      "execution_count": 5,
      "outputs": [
        {
          "output_type": "execute_result",
          "data": {
            "text/plain": [
              "Text(0, 0.5, 'Count')"
            ]
          },
          "metadata": {},
          "execution_count": 5
        },
        {
          "output_type": "display_data",
          "data": {
            "text/plain": [
              "<Figure size 640x480 with 1 Axes>"
            ],
            "image/png": "[encoded data removed]"
          },
          "metadata": {}
        }
      ]
    },
    {
      "cell_type": "code",
      "source": [
        "test, train = train_test_split(df, test_size=0.85, random_state=42)\n",
        "print(train.shape)\n",
        "print(test.shape)"
      ],
      "metadata": {
        "colab": {
          "base_uri": "https://localhost:8080/"
        },
        "id": "DGNpuPJKi2px",
        "outputId": "9af985bf-4e14-476e-b8f6-f6422a1dc381"
      },
      "execution_count": 8,
      "outputs": [
        {
          "output_type": "stream",
          "name": "stdout",
          "text": [
            "(20150, 5)\n",
            "(3555, 5)\n"
          ]
        }
      ]
    },
    {
      "cell_type": "code",
      "execution_count": 9,
      "metadata": {
        "id": "6xMTuMEFbRQi",
        "outputId": "752cf239-4819-40ae-e259-e8ec90e47d26",
        "colab": {
          "base_uri": "https://localhost:8080/"
        }
      },
      "outputs": [
        {
          "output_type": "stream",
          "name": "stdout",
          "text": [
            "Shape of training images: (20150, 48, 48, 1)\n",
            "Shape of images: (3555, 48, 48, 1)\n"
          ]
        }
      ],
      "source": [
        "#Reshaping images in training & test datasets\n",
        "\n",
        "X_train = train['pixels']\n",
        "# normalizing pixels data\n",
        "X_train = X_train/255.0\n",
        "\n",
        "# reshape images\n",
        "X_train = np.array(X_train.tolist())\n",
        "X_train = X_train.reshape(-1,48,48, 1)\n",
        "print(f\"Shape of training images: {X_train.shape}\")\n",
        "\n",
        "\n",
        "X_test = test['pixels']\n",
        "# normalizing pixels data\n",
        "X_test = X_test/255.0\n",
        "\n",
        "# reshape images\n",
        "X_test = np.array(X_test.tolist())\n",
        "X_test = X_test.reshape(-1,48,48, 1)\n",
        "print(f\"Shape of images: {X_test.shape}\")"
      ]
    },
    {
      "cell_type": "code",
      "source": [
        "# create y training datasets for age regression model\n",
        "\n",
        "y_train_gender = train['gender']\n",
        "print(f\"Gender array shape: {(y_train_gender.shape)}\")\n",
        "\n",
        "y_test_gender = test['gender']\n",
        "print(f\"Gender array shape: {(y_test_gender.shape)}\")"
      ],
      "metadata": {
        "colab": {
          "base_uri": "https://localhost:8080/"
        },
        "id": "LD8i5CdCjDIp",
        "outputId": "901773f3-f470-41aa-c1d2-4d4edd00d05f"
      },
      "execution_count": 10,
      "outputs": [
        {
          "output_type": "stream",
          "name": "stdout",
          "text": [
            "Gender array shape: (20150,)\n",
            "Gender array shape: (3555,)\n"
          ]
        }
      ]
    },
    {
      "cell_type": "code",
      "source": [
        "input_shape = (48, 48, 1)"
      ],
      "metadata": {
        "id": "MrDmTGnHcWlj"
      },
      "execution_count": 11,
      "outputs": []
    },
    {
      "cell_type": "markdown",
      "metadata": {
        "id": "vPMUZ6LfbRQi"
      },
      "source": [
        "# Model Developmnet"
      ]
    },
    {
      "cell_type": "code",
      "execution_count": 32,
      "metadata": {
        "id": "oJ3bbBFWbRQj"
      },
      "outputs": [],
      "source": [
        "import tensorflow as tf\n",
        "from keras.models import Sequential, Model\n",
        "from keras.layers import Conv2D, MaxPooling2D, Activation, Dropout, Flatten, Dense, Input, RandomFlip, RandomRotation, RandomContrast, BatchNormalization, RandomZoom\n",
        "from keras import optimizers\n",
        "from keras.preprocessing.image import ImageDataGenerator\n",
        "from tensorflow.keras.callbacks import EarlyStopping, ReduceLROnPlateau\n",
        "\n",
        "from keras.utils import plot_model\n",
        "\n",
        "from math import sqrt\n",
        "from sklearn.metrics import confusion_matrix, f1_score, precision_score, recall_score, mean_squared_error, mean_absolute_error, accuracy_score, classification_report"
      ]
    },
    {
      "cell_type": "markdown",
      "source": [
        "### Gender Model (Binary Classification)"
      ],
      "metadata": {
        "id": "R61I0FHMuP_8"
      }
    },
    {
      "cell_type": "markdown",
      "source": [
        "Model 0 - Model overfitting\n",
        "<br>\n",
        "Model 1\n",
        "- Accuracy: 0.934\n",
        "- Precision: 0.9061224489795918\n",
        "- Recall: 0.9568965517241379\n",
        "- F1 Score: 0.9308176100628931\n",
        "- Model overfitting\n",
        "\n",
        "Model 2\n",
        "- Accuracy: 0.848\n",
        "- Precision: 0.875\n",
        "- Recall: 0.7844827586206896\n",
        "- F1 Score: 0.8272727272727273\n",
        "- Added augmentation layers - helped overfitting\n",
        "\n",
        "Model 3\n",
        "- Accuracy: 0.892\n",
        "- Precision: 0.908256880733945\n",
        "- Recall: 0.853448275862069\n",
        "- F1 Score: 0.88\n",
        "- *Overfitting fixed, best model\n",
        "\n",
        "Model 4 -  Added batch normalization, model severly overfit\n",
        "\n",
        "Model 5\n",
        "- Accuracy: 0.878\n",
        "- Precision: 0.8868778280542986\n",
        "- Recall: 0.8448275862068966\n",
        "- F1 Score: 0.8653421633554084\n",
        "<br>"
      ],
      "metadata": {
        "id": "Gwr6QxzYWxsI"
      }
    },
    {
      "cell_type": "code",
      "source": [
        "gender_model = Sequential([\n",
        "\n",
        "    # augmentation layers\n",
        "    RandomFlip(mode = 'horizontal', seed = 27, input_shape = (input_shape)),\n",
        "    RandomFlip(mode = 'vertical', seed = 27),\n",
        "    RandomRotation(factor = 0.1, fill_mode='nearest', seed = 27),\n",
        "    RandomContrast(factor = 0.1, seed = 27),\n",
        "\n",
        "    # convolutional layers\n",
        "    Conv2D(64, kernel_size=(3, 3), activation='relu', input_shape = (input_shape)),\n",
        "    MaxPooling2D(pool_size=(2, 2)),\n",
        "\n",
        "    Conv2D(128, kernel_size=(3, 3), activation='relu', padding = 'same'),\n",
        "    Conv2D(128, kernel_size=(3, 3), activation='relu', padding = 'same'),\n",
        "    MaxPooling2D(pool_size=(2, 2)),\n",
        "    Dropout(0.5),\n",
        "\n",
        "    Flatten(),\n",
        "\n",
        "    Dense(1, activation = 'sigmoid')\n",
        "\n",
        "])\n",
        "gender_model.compile(optimizer = 'adam', loss = 'binary_crossentropy', metrics = ['accuracy'])\n",
        "gender_model.build(input_shape)\n",
        "gender_model.summary()"
      ],
      "metadata": {
        "colab": {
          "base_uri": "https://localhost:8080/"
        },
        "id": "4UP6Tw4uuJiO",
        "outputId": "aa1b5588-26f8-405a-8a70-8d343b28b322"
      },
      "execution_count": 33,
      "outputs": [
        {
          "output_type": "stream",
          "name": "stdout",
          "text": [
            "Model: \"sequential_1\"\n",
            "_________________________________________________________________\n",
            " Layer (type)                Output Shape              Param #   \n",
            "=================================================================\n",
            " random_flip_2 (RandomFlip)  (None, 48, 48, 1)         0         \n",
            "                                                                 \n",
            " random_flip_3 (RandomFlip)  (None, 48, 48, 1)         0         \n",
            "                                                                 \n",
            " random_rotation_1 (RandomR  (None, 48, 48, 1)         0         \n",
            " otation)                                                        \n",
            "                                                                 \n",
            " random_contrast_1 (RandomC  (None, 48, 48, 1)         0         \n",
            " ontrast)                                                        \n",
            "                                                                 \n",
            " conv2d_3 (Conv2D)           (None, 46, 46, 64)        640       \n",
            "                                                                 \n",
            " max_pooling2d_2 (MaxPoolin  (None, 23, 23, 64)        0         \n",
            " g2D)                                                            \n",
            "                                                                 \n",
            " conv2d_4 (Conv2D)           (None, 23, 23, 128)       73856     \n",
            "                                                                 \n",
            " conv2d_5 (Conv2D)           (None, 23, 23, 128)       147584    \n",
            "                                                                 \n",
            " max_pooling2d_3 (MaxPoolin  (None, 11, 11, 128)       0         \n",
            " g2D)                                                            \n",
            "                                                                 \n",
            " dropout_1 (Dropout)         (None, 11, 11, 128)       0         \n",
            "                                                                 \n",
            " flatten_1 (Flatten)         (None, 15488)             0         \n",
            "                                                                 \n",
            " dense_1 (Dense)             (None, 1)                 15489     \n",
            "                                                                 \n",
            "=================================================================\n",
            "Total params: 237569 (928.00 KB)\n",
            "Trainable params: 237569 (928.00 KB)\n",
            "Non-trainable params: 0 (0.00 Byte)\n",
            "_________________________________________________________________\n"
          ]
        }
      ]
    },
    {
      "cell_type": "code",
      "source": [
        "logdir = os.path.join(\"logs/gender_model\", datetime.datetime.now().strftime(\"%Y%m%d-%H%M%S\"))\n",
        "tensorboard_callback = tf.keras.callbacks.TensorBoard(logdir, histogram_freq=1)\n",
        "\n",
        "callbacks = [tensorboard_callback,\n",
        "             EarlyStopping(patience=4, monitor='val_loss', mode='min'),\n",
        "             ReduceLROnPlateau(patience=2, verbose=1)\n",
        "             ]\n",
        "\n",
        "history = gender_model.fit(X_train, y_train_gender,\n",
        "                        epochs=100,\n",
        "                        batch_size=32,\n",
        "                        callbacks=callbacks,\n",
        "                        validation_split= 0.2,\n",
        "                        validation_data=(X_test, y_test_gender))"
      ],
      "metadata": {
        "id": "4rwxSkr1vCje"
      },
      "execution_count": 34,
      "outputs": []
    },
    {
      "cell_type": "code",
      "source": [
        "gender_model.save('/content/drive/MyDrive/comp4449_final/models/gender/5')"
      ],
      "metadata": {
        "id": "flTr0BISHC3w"
      },
      "execution_count": null,
      "outputs": []
    },
    {
      "cell_type": "code",
      "source": [
        "# from tensorboard import notebook\n",
        "# notebook.list()\n",
        "# # load tensorboard\n",
        "# notebook.display(port=6006, height=1000)\n",
        "%load_ext tensorboard\n",
        "%tensorboard --logdir logs"
      ],
      "metadata": {
        "id": "x9C8o5rfIA0p"
      },
      "execution_count": null,
      "outputs": []
    },
    {
      "cell_type": "code",
      "source": [
        "def evaluate_classification_model(labels, preds, cm_labels):\n",
        "\n",
        "  cm = confusion_matrix(labels, preds)\n",
        "  sns.heatmap(cm, annot = True, fmt ='.0f', xticklabels=cm_labels, yticklabels=cm_labels)\n",
        "  plt.ylabel('True Label')\n",
        "  plt.xlabel('Predictied Label')\n",
        "  plt.title('Gender Classficiation')\n",
        "  print(f\"Accuracy: {accuracy_score(labels, preds)}\")\n",
        "  print(f\"Precision: {precision_score(labels, preds)}\")\n",
        "  print(f\"Recall: {recall_score(labels, preds)}\")\n",
        "  print(f\"F1 Score: {f1_score(labels, preds)}\")\n",
        "  # print(classification_report(labels, preds, target_names = cm_labels))\n",
        "\n",
        "  return\n",
        "\n",
        "def predict_gender(label, img):\n",
        "  gender_map = {0 : \"Male\", 1 : \"Female\"}\n",
        "\n",
        "  print(f\"Actual gender: {gender_map[label]}\")\n",
        "\n",
        "  m_prediction = model.predict(img.reshape(-1,48,48, 1), verbose = 0)\n",
        "  if m_prediction <0.5:\n",
        "    print(f'Predicted gender: {gender_map[0]}')\n",
        "  else:\n",
        "    print(f'Predicted gender: {gender_map[1]}')\n",
        "\n",
        "  # print(f\"Predicted gender: {gender_map[np.argmax(m_prediction, axis = 1)[0]]}\")\n",
        "\n",
        "  return"
      ],
      "metadata": {
        "id": "vxa4Bmy-Xwae"
      },
      "execution_count": 23,
      "outputs": []
    },
    {
      "cell_type": "code",
      "source": [
        "acc = history.history['accuracy']\n",
        "val_acc = history.history['val_accuracy']\n",
        "epochs = range(len(acc))\n",
        "\n",
        "plt.plot(epochs, acc, 'b', label='Training Accuracy')\n",
        "plt.plot(epochs, val_acc, 'r', label='Validation Accuracy')\n",
        "plt.title('Gender Classification - Accuracy')\n",
        "plt.legend()\n",
        "plt.figure()\n",
        "\n",
        "\n",
        "loss = history.history['loss']\n",
        "val_loss = history.history['val_loss']\n",
        "epochs = range(len(loss))\n",
        "\n",
        "plt.plot(epochs, loss, 'b', label='Training Loss')\n",
        "plt.plot(epochs, val_loss, 'r', label='Validation Loss')\n",
        "plt.title('Gender Prediction - Loss')\n",
        "plt.legend()\n",
        "plt.show()"
      ],
      "metadata": {
        "colab": {
          "base_uri": "https://localhost:8080/",
          "height": 887
        },
        "id": "lcbzqFnjBA_6",
        "outputId": "78edcdd2-4007-46d3-fde5-1cf762c64632"
      },
      "execution_count": null,
      "outputs": [
        {
          "output_type": "display_data",
          "data": {
            "text/plain": [
              "<Figure size 640x480 with 1 Axes>"
            ],
            "image/png": "[encoded data removed]"
          },
          "metadata": {}
        },
        {
          "output_type": "display_data",
          "data": {
            "text/plain": [
              "<Figure size 640x480 with 1 Axes>"
            ],
            "image/png": "[encoded data removed]"
          },
          "metadata": {}
        }
      ]
    },
    {
      "cell_type": "code",
      "source": [
        "valid_score = gender_model.evaluate(X_test, y_test_gender, verbose=1)"
      ],
      "metadata": {
        "colab": {
          "base_uri": "https://localhost:8080/"
        },
        "id": "auzlAdVzBmuI",
        "outputId": "20494221-6d6d-440b-ac6a-d07cbcf6d9bc"
      },
      "execution_count": null,
      "outputs": [
        {
          "output_type": "stream",
          "name": "stdout",
          "text": [
            "112/112 [==============================] - 0s 2ms/step - loss: 0.3000 - accuracy: 0.8723\n"
          ]
        }
      ]
    },
    {
      "cell_type": "code",
      "source": [
        "# Loading best model to display results\n",
        "model = tf.keras.saving.load_model('/content/drive/MyDrive/comp4449_final/models/gender/3')"
      ],
      "metadata": {
        "id": "jgZHCIK_Xm6-"
      },
      "execution_count": 20,
      "outputs": []
    },
    {
      "cell_type": "code",
      "source": [
        "y_pred_gender = model.predict(X_test[:500])\n",
        "pred_classes = [0 if i<0.5 else 1 for i in y_pred_gender]"
      ],
      "metadata": {
        "colab": {
          "base_uri": "https://localhost:8080/"
        },
        "id": "Kxwu184SByZN",
        "outputId": "97d2d4b8-51bb-45ad-9236-42b5e725977e"
      },
      "execution_count": 21,
      "outputs": [
        {
          "output_type": "stream",
          "name": "stdout",
          "text": [
            "16/16 [==============================] - 1s 42ms/step\n"
          ]
        }
      ]
    },
    {
      "cell_type": "code",
      "source": [
        "evaluate_classification_model(y_test_gender.values[:500], pred_classes, ['Male', 'Female'])"
      ],
      "metadata": {
        "colab": {
          "base_uri": "https://localhost:8080/",
          "height": 543
        },
        "id": "7BFLk5N2CDkg",
        "outputId": "c8a04b3a-245e-4a91-af07-dcd5f6ebac9b"
      },
      "execution_count": 24,
      "outputs": [
        {
          "output_type": "stream",
          "name": "stdout",
          "text": [
            "Accuracy: 0.892\n",
            "Precision: 0.908256880733945\n",
            "Recall: 0.853448275862069\n",
            "F1 Score: 0.88\n"
          ]
        },
        {
          "output_type": "display_data",
          "data": {
            "text/plain": [
              "<Figure size 640x480 with 2 Axes>"
            ],
            "image/png": "[encoded data removed]"
          },
          "metadata": {}
        }
      ]
    },
    {
      "cell_type": "code",
      "source": [
        "plot_model(model)"
      ],
      "metadata": {
        "colab": {
          "base_uri": "https://localhost:8080/",
          "height": 1000
        },
        "id": "T-GOGNn22Li_",
        "outputId": "45d689b8-f993-4327-c418-faf5415957d2"
      },
      "execution_count": 31,
      "outputs": [
        {
          "output_type": "execute_result",
          "data": {
            "image/png": "[encoded data removed]",
            "text/plain": [
              "<IPython.core.display.Image object>"
            ]
          },
          "metadata": {},
          "execution_count": 31
        }
      ]
    },
    {
      "cell_type": "code",
      "source": [
        "pred = test.sample()\n",
        "pred\n",
        "predict_gender(pred.values[0][2], pred.values[0][3])\n",
        "# test.iloc[0]"
      ],
      "metadata": {
        "colab": {
          "base_uri": "https://localhost:8080/"
        },
        "id": "mwX9bSYdTJG3",
        "outputId": "c5dba0ef-13cd-4d5c-a778-afeac2c65acc"
      },
      "execution_count": null,
      "outputs": [
        {
          "output_type": "stream",
          "name": "stdout",
          "text": [
            "Actual gender: Female\n",
            "Predicted gender: Female\n"
          ]
        }
      ]
    },
    {
      "cell_type": "code",
      "source": [],
      "metadata": {
        "id": "AIDLwBd7YCJj"
      },
      "execution_count": null,
      "outputs": []
    }
  ],
  "metadata": {
    "kernelspec": {
      "display_name": "Python 3",
      "name": "python3"
    },
    "language_info": {
      "codemirror_mode": {
        "name": "ipython",
        "version": 3
      },
      "file_extension": ".py",
      "mimetype": "text/x-python",
      "name": "python",
      "nbconvert_exporter": "python",
      "pygments_lexer": "ipython3",
      "version": "3.11.5"
    },
    "colab": {
      "provenance": [],
      "machine_shape": "hm",
      "include_colab_link": true
    }
  },
  "nbformat": 4,
  "nbformat_minor": 0
}